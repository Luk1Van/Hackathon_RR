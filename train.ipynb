{
 "cells": [
  {
   "cell_type": "code",
   "execution_count": 13,
   "id": "511276b9",
   "metadata": {},
   "outputs": [],
   "source": [
    "import pandas as pd\n",
    "import numpy as np\n",
    "import torch\n",
    "\n",
    "from tqdm.auto import tqdm"
   ]
  },
  {
   "cell_type": "code",
   "execution_count": 2,
   "id": "ee97d17d",
   "metadata": {},
   "outputs": [],
   "source": [
    "data = pd.read_json(\"dataset.json\", encoding=\"utf-8\")"
   ]
  },
  {
   "cell_type": "code",
   "execution_count": 3,
   "id": "b90765d8",
   "metadata": {},
   "outputs": [
    {
     "data": {
      "text/html": [
       "<div>\n",
       "<style scoped>\n",
       "    .dataframe tbody tr th:only-of-type {\n",
       "        vertical-align: middle;\n",
       "    }\n",
       "\n",
       "    .dataframe tbody tr th {\n",
       "        vertical-align: top;\n",
       "    }\n",
       "\n",
       "    .dataframe thead th {\n",
       "        text-align: right;\n",
       "    }\n",
       "</style>\n",
       "<table border=\"1\" class=\"dataframe\">\n",
       "  <thead>\n",
       "    <tr style=\"text-align: right;\">\n",
       "      <th></th>\n",
       "      <th>stations</th>\n",
       "      <th>full_timetable</th>\n",
       "    </tr>\n",
       "  </thead>\n",
       "  <tbody>\n",
       "    <tr>\n",
       "      <th>0</th>\n",
       "      <td>{'Златоуст (1)': ['0', '38', '38', '25', '29',...</td>\n",
       "      <td>{'853': {'route': ['1', '3', '2'], 'free_carri...</td>\n",
       "    </tr>\n",
       "    <tr>\n",
       "      <th>1</th>\n",
       "      <td>{'Златоуст (1)': ['0', '28', '24', '28', '8', ...</td>\n",
       "      <td>{'896': {'route': ['1', '3', '2'], 'free_carri...</td>\n",
       "    </tr>\n",
       "    <tr>\n",
       "      <th>2</th>\n",
       "      <td>{'Златоуст (1)': ['0', '25', '15', '6', '15', ...</td>\n",
       "      <td>{'309': {'route': ['1', '3', '2'], 'free_carri...</td>\n",
       "    </tr>\n",
       "    <tr>\n",
       "      <th>3</th>\n",
       "      <td>{'Златоуст (1)': ['0', '32', '30', '13', '4', ...</td>\n",
       "      <td>{'800': {'route': ['2', '3', '6', '5'], 'free_...</td>\n",
       "    </tr>\n",
       "    <tr>\n",
       "      <th>4</th>\n",
       "      <td>{'Златоуст (1)': ['0', '10', '38', '16', '1', ...</td>\n",
       "      <td>{'893': {'route': ['1', '3', '6', '5', '7'], '...</td>\n",
       "    </tr>\n",
       "  </tbody>\n",
       "</table>\n",
       "</div>"
      ],
      "text/plain": [
       "                                            stations  \\\n",
       "0  {'Златоуст (1)': ['0', '38', '38', '25', '29',...   \n",
       "1  {'Златоуст (1)': ['0', '28', '24', '28', '8', ...   \n",
       "2  {'Златоуст (1)': ['0', '25', '15', '6', '15', ...   \n",
       "3  {'Златоуст (1)': ['0', '32', '30', '13', '4', ...   \n",
       "4  {'Златоуст (1)': ['0', '10', '38', '16', '1', ...   \n",
       "\n",
       "                                      full_timetable  \n",
       "0  {'853': {'route': ['1', '3', '2'], 'free_carri...  \n",
       "1  {'896': {'route': ['1', '3', '2'], 'free_carri...  \n",
       "2  {'309': {'route': ['1', '3', '2'], 'free_carri...  \n",
       "3  {'800': {'route': ['2', '3', '6', '5'], 'free_...  \n",
       "4  {'893': {'route': ['1', '3', '6', '5', '7'], '...  "
      ]
     },
     "execution_count": 3,
     "metadata": {},
     "output_type": "execute_result"
    }
   ],
   "source": [
    "data.head()"
   ]
  },
  {
   "cell_type": "code",
   "execution_count": 5,
   "id": "6b545108",
   "metadata": {},
   "outputs": [
    {
     "data": {
      "text/plain": [
       "{'Златоуст (1)': ['0', '38', '38', '25', '29', '7', '10'],\n",
       " 'Кыштым (2)': ['26', '0', '7', '34', '20', '27', '35'],\n",
       " 'Миасс (3)': ['15', '5', '0', '27', '16', '31', '24'],\n",
       " 'Муслюмово (4)': ['12', '39', '1', '0', '2', '14', '20'],\n",
       " 'Челябинск (5)': ['38', '38', '1', '28', '0', '33', '14'],\n",
       " 'Полетаево (6)': ['21', '27', '24', '9', '1', '0', '3'],\n",
       " 'Еманжелинск (7)': ['9', '3', '23', '25', '32', '37', '0']}"
      ]
     },
     "execution_count": 5,
     "metadata": {},
     "output_type": "execute_result"
    }
   ],
   "source": [
    "data[\"stations\"].iloc[0]"
   ]
  },
  {
   "cell_type": "code",
   "execution_count": 7,
   "id": "f90117c4",
   "metadata": {},
   "outputs": [],
   "source": [
    "def preprocess_stations(stations_data):\n",
    "    all_stations = list(stations_data.iloc[0].keys())\n",
    "    \n",
    "    station_vectors = []\n",
    "    for key, value in stations_data.items():\n",
    "        vector = []\n",
    "        for station, values in value.items():\n",
    "            vector.extend([int(v) for v in values])\n",
    "        station_vectors.append(vector)\n",
    "    \n",
    "    return np.array(station_vectors), all_stations"
   ]
  },
  {
   "cell_type": "code",
   "execution_count": 8,
   "id": "5013df76",
   "metadata": {},
   "outputs": [],
   "source": [
    "station_vectors, all_stations = preprocess_stations(data[\"stations\"])"
   ]
  },
  {
   "cell_type": "code",
   "execution_count": 10,
   "id": "f93df69b",
   "metadata": {},
   "outputs": [],
   "source": [
    "def preprocess_timetable_updated(timetable_data, all_stations):\n",
    "    route_vectors = []\n",
    "    free_carriage_vectors = []\n",
    "    timetable_vectors = []\n",
    "    \n",
    "    for train_num, train_data in timetable_data.items():\n",
    "        for key, value in train_data.items():\n",
    "            route = [int(r) for r in value['route']]\n",
    "            for i in range(len(route)-1):\n",
    "                route[i] = route[i+1]\n",
    "            route_vectors.append(route)\n",
    "\n",
    "            free_carriage = [int(fc) for fc in value['free_carriage']]\n",
    "            free_carriage_vectors.append(free_carriage)\n",
    "\n",
    "            timetable = [int(time.split('-')[0].split(':')[0])*60 + int(time.split('-')[0].split(':')[1]) for time in value['timetable']]\n",
    "            timetable_vectors.append(timetable)\n",
    "    \n",
    "    return np.array(route_vectors), np.array(free_carriage_vectors), np.array(timetable_vectors)"
   ]
  },
  {
   "cell_type": "code",
   "execution_count": 12,
   "id": "b81fe794",
   "metadata": {},
   "outputs": [
    {
     "name": "stderr",
     "output_type": "stream",
     "text": [
      "C:\\Users\\Daniel\\AppData\\Local\\Temp\\ipykernel_6336\\368377001.py:19: VisibleDeprecationWarning: Creating an ndarray from ragged nested sequences (which is a list-or-tuple of lists-or-tuples-or ndarrays with different lengths or shapes) is deprecated. If you meant to do this, you must specify 'dtype=object' when creating the ndarray.\n",
      "  return np.array(route_vectors), np.array(free_carriage_vectors), np.array(timetable_vectors)\n"
     ]
    }
   ],
   "source": [
    "route_vectors, free_carriage_vectors, timetable_vectors = preprocess_timetable_updated(data[\"full_timetable\"], all_stations)"
   ]
  },
  {
   "cell_type": "code",
   "execution_count": 16,
   "id": "a09e55c9",
   "metadata": {},
   "outputs": [
    {
     "data": {
      "text/plain": [
       "array([list([3, 2, 2]), list([3, 2, 2]), list([3, 6, 5, 4, 4]), ...,\n",
       "       list([6, 5, 5]), list([6, 5, 5]), list([6, 5, 5])], dtype=object)"
      ]
     },
     "execution_count": 16,
     "metadata": {},
     "output_type": "execute_result"
    }
   ],
   "source": [
    "route_vectors"
   ]
  },
  {
   "cell_type": "code",
   "execution_count": 17,
   "id": "81f64da5",
   "metadata": {},
   "outputs": [],
   "source": [
    "def pad_sequences(sequences, max_length):\n",
    "    padded_sequences = []\n",
    "    \n",
    "    for seq in sequences:\n",
    "        if len(seq) < max_length:\n",
    "            padded_seq = list(seq) + [0] * (max_length - len(seq))\n",
    "        else:\n",
    "            padded_seq = list(seq)[:max_length]\n",
    "        padded_sequences.append(padded_seq)\n",
    "    \n",
    "    return np.array(padded_sequences)"
   ]
  },
  {
   "cell_type": "code",
   "execution_count": 18,
   "id": "68c02505",
   "metadata": {},
   "outputs": [],
   "source": [
    "max_length_route = max([len(r) for r in route_vectors])\n",
    "max_length_free_carriage = max([len(fc) for fc in free_carriage_vectors])\n",
    "max_length_timetable = max([len(t) for t in timetable_vectors])\n",
    "\n",
    "route_vectors_padded = pad_sequences(route_vectors, max_length_route)\n",
    "free_carriage_vectors_padded = pad_sequences(free_carriage_vectors, max_length_free_carriage)\n",
    "timetable_vectors_padded = pad_sequences(timetable_vectors, max_length_timetable)"
   ]
  },
  {
   "cell_type": "code",
   "execution_count": 22,
   "id": "20d4312d",
   "metadata": {},
   "outputs": [],
   "source": [
    "num_repeats = route_vectors_padded.shape[0] // station_vectors.shape[0]\n",
    "expanded_station_vectors = np.tile(station_vectors, (num_repeats, 1))"
   ]
  },
  {
   "cell_type": "code",
   "execution_count": 23,
   "id": "ad114d61",
   "metadata": {},
   "outputs": [],
   "source": [
    "route_vectors_padded = route_vectors_padded[:expanded_station_vectors.shape[0]]\n",
    "free_carriage_vectors_padded = free_carriage_vectors_padded[:expanded_station_vectors.shape[0]]\n",
    "timetable_vectors_padded = timetable_vectors_padded[:expanded_station_vectors.shape[0]]"
   ]
  },
  {
   "cell_type": "code",
   "execution_count": 24,
   "id": "16cb3d03",
   "metadata": {},
   "outputs": [],
   "source": [
    "combined_input = np.hstack((expanded_station_vectors, route_vectors_padded, free_carriage_vectors_padded, timetable_vectors_padded))"
   ]
  },
  {
   "cell_type": "code",
   "execution_count": 26,
   "id": "e9b432d6",
   "metadata": {},
   "outputs": [
    {
     "data": {
      "text/plain": [
       "((2080000, 72), (520000, 72), (2080000, 49), (520000, 49))"
      ]
     },
     "execution_count": 26,
     "metadata": {},
     "output_type": "execute_result"
    }
   ],
   "source": [
    "from sklearn.model_selection import train_test_split\n",
    "\n",
    "X_train, X_test, y_train, y_test = train_test_split(combined_input, expanded_station_vectors, test_size=0.2, random_state=42)\n",
    "\n",
    "X_train.shape, X_test.shape, y_train.shape, y_test.shape"
   ]
  },
  {
   "cell_type": "code",
   "execution_count": 34,
   "id": "27f7eaf9",
   "metadata": {},
   "outputs": [
    {
     "data": {
      "application/vnd.jupyter.widget-view+json": {
       "model_id": "5ed6ebe0f59943e3ad238faebab653fd",
       "version_major": 2,
       "version_minor": 0
      },
      "text/plain": [
       "  0%|          | 0/100 [00:00<?, ?it/s]"
      ]
     },
     "metadata": {},
     "output_type": "display_data"
    },
    {
     "name": "stdout",
     "output_type": "stream",
     "text": [
      "Epoch [10/100], Loss: 221.0894\n",
      "Epoch [20/100], Loss: 146.7267\n",
      "Epoch [30/100], Loss: 129.1243\n",
      "Epoch [40/100], Loss: 119.9132\n",
      "Epoch [50/100], Loss: 114.3921\n",
      "Epoch [60/100], Loss: 111.9769\n",
      "Epoch [70/100], Loss: 110.4389\n",
      "Epoch [80/100], Loss: 109.0225\n",
      "Epoch [90/100], Loss: 107.6813\n",
      "Epoch [100/100], Loss: 106.1915\n",
      "Training complete.\n"
     ]
    }
   ],
   "source": [
    "import numpy as np\n",
    "import torch\n",
    "import torch.nn as nn\n",
    "import torch.optim as optim\n",
    "from sklearn.model_selection import train_test_split\n",
    "import json\n",
    "\n",
    "\n",
    "class TrainNet(nn.Module):\n",
    "    def __init__(self, input_shape):\n",
    "        super(TrainNet, self).__init__()\n",
    "        self.fc1 = nn.Linear(input_shape, 128)\n",
    "        self.fc2 = nn.Linear(128, 64)\n",
    "        self.fc3 = nn.Linear(64, input_shape_stations)\n",
    "        \n",
    "    def forward(self, x):\n",
    "        x = torch.relu(self.fc1(x))\n",
    "        x = torch.relu(self.fc2(x))\n",
    "        x = self.fc3(x)\n",
    "        return x\n",
    "\n",
    "# Создание модели\n",
    "\n",
    "\n",
    "input_shape = combined_input.shape[1]\n",
    "model = TrainNet(input_shape)\n",
    "\n",
    "# Определение функции потерь и оптимизатора\n",
    "criterion = nn.MSELoss()\n",
    "optimizer = optim.Adam(model.parameters(), lr=0.001)\n",
    "\n",
    "# Обучение модели\n",
    "epochs = 100\n",
    "for epoch in tqdm(range(epochs)):\n",
    "    # Преобразование данных в тензоры PyTorch\n",
    "    inputs = torch.tensor(X_train, dtype=torch.float32)\n",
    "    targets = torch.tensor(y_train, dtype=torch.float32)\n",
    "    \n",
    "    # Прямой проход\n",
    "    outputs = model(inputs)\n",
    "    loss = criterion(outputs, targets)\n",
    "    \n",
    "    # Обратный проход и оптимизация\n",
    "    optimizer.zero_grad()\n",
    "    loss.backward()\n",
    "    optimizer.step()\n",
    "    \n",
    "    # Вывод статистики обучения\n",
    "    if (epoch+1) % 10 == 0:\n",
    "        print(f\"Epoch [{epoch+1}/{epochs}], Loss: {loss.item():.4f}\")\n",
    "\n",
    "print(\"Training complete.\")\n"
   ]
  },
  {
   "cell_type": "code",
   "execution_count": 36,
   "id": "c5af6e01",
   "metadata": {},
   "outputs": [
    {
     "data": {
      "text/plain": [
       "tensor([[ 1.9298, 17.9488, 20.0837,  ..., 19.5518, 18.5673,  0.4876],\n",
       "        [ 0.2424, 20.1483, 19.8802,  ..., 19.3656, 17.7703, -1.0788],\n",
       "        [-1.0337, 22.3066, 21.0141,  ..., 24.7910, 23.9227, -0.1962],\n",
       "        ...,\n",
       "        [ 0.1541, 19.2849, 18.2535,  ..., 17.5948, 19.6196, -1.0559],\n",
       "        [ 0.3569, 19.9868, 21.9910,  ..., 22.2222, 22.1454,  0.7376],\n",
       "        [ 2.3790, 17.1191, 18.5860,  ..., 15.7557, 17.0595, -0.5799]],\n",
       "       grad_fn=<AddmmBackward0>)"
      ]
     },
     "execution_count": 36,
     "metadata": {},
     "output_type": "execute_result"
    }
   ],
   "source": [
    "model(torch.tensor(X_test, dtype=torch.float32))"
   ]
  },
  {
   "cell_type": "code",
   "execution_count": 37,
   "id": "65ff9f11",
   "metadata": {},
   "outputs": [
    {
     "data": {
      "text/plain": [
       "tensor([[ 0.,  1.,  6.,  ..., 13.,  0.,  0.],\n",
       "        [ 0.,  9., 34.,  ..., 26.,  1.,  0.],\n",
       "        [ 0., 39.,  5.,  ..., 38., 38.,  0.],\n",
       "        ...,\n",
       "        [ 0., 31., 22.,  ...,  0., 14.,  0.],\n",
       "        [ 0., 26., 39.,  ...,  5., 36.,  0.],\n",
       "        [ 0., 28., 15.,  ...,  6.,  7.,  0.]])"
      ]
     },
     "execution_count": 37,
     "metadata": {},
     "output_type": "execute_result"
    }
   ],
   "source": [
    "torch.tensor(y_test, dtype=torch.float32)"
   ]
  },
  {
   "cell_type": "code",
   "execution_count": 41,
   "id": "29d261c0",
   "metadata": {},
   "outputs": [
    {
     "name": "stdout",
     "output_type": "stream",
     "text": [
      "{'Златоуст (1)': [1, 17, 20, 18, 19, 18, 18, 20, -1, 19, 20, 20, 20, 18, 17, 20, 0, 18, 19, 21, 19, 17, 18, 18, 0, 18, 18, 17, 18, 17, 19, 18, 0, 17, 17, 19, 20, 16, 19, 19, 1, 19, 19, 16, 18, 19, 19, 18, 0], 'Кыштым (2)': [0, 20, 19, 18, 17, 17, 18, 19, 0, 21, 17, 19, 18, 17, 19, 21, 0, 20, 18, 17, 19, 20, 18, 19, 0, 20, 20, 18, 19, 18, 19, 17, 1, 19, 18, 20, 20, 17, 19, 18, -1, 20, 18, 19, 18, 18, 19, 17, -1], 'Миасс (3)': [-1, 22, 21, 22, 22, 23, 21, 22, -1, 22, 19, 21, 24, 22, 22, 23, 0, 21, 21, 21, 22, 21, 20, 23, -1, 22, 21, 20, 23, 21, 20, 20, 0, 24, 20, 23, 20, 22, 22, 21, -1, 22, 21, 23, 21, 20, 24, 23, 0], 'Муслюмово (4)': [0, 20, 19, 19, 18, 18, 18, 18, 1, 19, 17, 21, 19, 16, 19, 19, 0, 19, 19, 21, 19, 20, 19, 20, -1, 19, 19, 19, 17, 19, 18, 18, 0, 19, 20, 19, 20, 19, 18, 21, -2, 19, 19, 21, 19, 18, 20, 17, 0], 'Челябинск (5)': [-1, 18, 19, 18, 21, 17, 19, 19, 2, 16, 19, 17, 17, 19, 21, 18, 0, 20, 19, 18, 17, 21, 21, 19, -1, 20, 19, 21, 17, 18, 17, 19, 1, 21, 20, 21, 18, 21, 19, 19, 0, 20, 20, 20, 19, 20, 19, 20, 0], 'Полетаево (6)': [3, 20, 20, 18, 17, 21, 20, 21, -4, 20, 17, 19, 21, 20, 19, 19, 1, 18, 19, 18, 21, 20, 16, 19, 0, 19, 18, 20, 20, 18, 18, 18, 0, 21, 17, 19, 19, 20, 19, 18, 0, 18, 17, 19, 21, 20, 21, 22, 0], 'Еманжелинск (7)': [-1, 18, 20, 18, 19, 18, 20, 20, 1, 19, 18, 19, 17, 18, 19, 21, 0, 19, 20, 19, 18, 20, 20, 20, 0, 19, 20, 20, 19, 19, 20, 18, 0, 20, 19, 20, 18, 21, 20, 20, 0, 19, 19, 19, 21, 20, 20, 20, 0]}\n"
     ]
    }
   ],
   "source": [
    "with torch.no_grad():\n",
    "    inputs = torch.tensor(X_test, dtype=torch.float32)\n",
    "    predicted_vectors = model(inputs).numpy()\n",
    "\n",
    "predicted_schedule = {}\n",
    "for idx, station_name in enumerate(all_stations):\n",
    "    predicted_schedule[station_name] = list(map(int, predicted_vectors[idx]))\n",
    "\n",
    "print(predicted_schedule)"
   ]
  },
  {
   "cell_type": "code",
   "execution_count": 45,
   "id": "2acb9eef",
   "metadata": {},
   "outputs": [
    {
     "name": "stdout",
     "output_type": "stream",
     "text": [
      "49\n"
     ]
    }
   ],
   "source": [
    "print(len(predicted_schedule[\"Златоуст (1)\"]))"
   ]
  },
  {
   "cell_type": "code",
   "execution_count": 48,
   "id": "4e71b4b4",
   "metadata": {},
   "outputs": [
    {
     "data": {
      "text/plain": [
       "(520000, 49)"
      ]
     },
     "execution_count": 48,
     "metadata": {},
     "output_type": "execute_result"
    }
   ],
   "source": [
    "y_test.shape"
   ]
  },
  {
   "cell_type": "code",
   "execution_count": 51,
   "id": "197d826a",
   "metadata": {},
   "outputs": [
    {
     "data": {
      "text/plain": [
       "{'Златоуст (1)': ['0', '38', '38', '25', '29', '7', '10'],\n",
       " 'Кыштым (2)': ['26', '0', '7', '34', '20', '27', '35'],\n",
       " 'Миасс (3)': ['15', '5', '0', '27', '16', '31', '24'],\n",
       " 'Муслюмово (4)': ['12', '39', '1', '0', '2', '14', '20'],\n",
       " 'Челябинск (5)': ['38', '38', '1', '28', '0', '33', '14'],\n",
       " 'Полетаево (6)': ['21', '27', '24', '9', '1', '0', '3'],\n",
       " 'Еманжелинск (7)': ['9', '3', '23', '25', '32', '37', '0']}"
      ]
     },
     "execution_count": 51,
     "metadata": {},
     "output_type": "execute_result"
    }
   ],
   "source": [
    "data[\"stations\"].iloc[0]"
   ]
  },
  {
   "cell_type": "code",
   "execution_count": 50,
   "id": "e5623cc2",
   "metadata": {},
   "outputs": [
    {
     "data": {
      "text/plain": [
       "{'route': ['1', '3', '2'],\n",
       " 'free_carriage': ['21', '21'],\n",
       " 'timetable': ['02:00 - 02:38', '04:48 - 06:11', '13:35 - 13:58']}"
      ]
     },
     "execution_count": 50,
     "metadata": {},
     "output_type": "execute_result"
    }
   ],
   "source": [
    "data[\"full_timetable\"].iloc[0][\"853\"]"
   ]
  },
  {
   "cell_type": "code",
   "execution_count": 53,
   "id": "207fa47a",
   "metadata": {},
   "outputs": [],
   "source": [
    "data.head(20).to_json(\"small_dataset.json\")"
   ]
  },
  {
   "cell_type": "code",
   "execution_count": 56,
   "id": "8ff0e5c1",
   "metadata": {},
   "outputs": [],
   "source": [
    "data.head(50).to_json(\"test_dataset.json\")"
   ]
  },
  {
   "cell_type": "code",
   "execution_count": 57,
   "id": "60697e93",
   "metadata": {},
   "outputs": [],
   "source": [
    "model_scripted = torch.jit.script(model) # Export to TorchScript\n",
    "model_scripted.save('model.pt') # Save"
   ]
  },
  {
   "cell_type": "code",
   "execution_count": 59,
   "id": "549c15ed",
   "metadata": {},
   "outputs": [
    {
     "data": {
      "text/plain": [
       "array([list([120, 288, 815]), list([204, 392, 870]),\n",
       "       list([223, 396, 702, 801, 1002]), ..., list([111, 237, 372]),\n",
       "       list([132, 273, 400]), list([128, 235, 348])], dtype=object)"
      ]
     },
     "execution_count": 59,
     "metadata": {},
     "output_type": "execute_result"
    }
   ],
   "source": [
    "timetable_vectors"
   ]
  },
  {
   "cell_type": "code",
   "execution_count": null,
   "id": "785c11ff",
   "metadata": {},
   "outputs": [],
   "source": []
  }
 ],
 "metadata": {
  "kernelspec": {
   "display_name": "dl",
   "language": "python",
   "name": "dl"
  },
  "language_info": {
   "codemirror_mode": {
    "name": "ipython",
    "version": 3
   },
   "file_extension": ".py",
   "mimetype": "text/x-python",
   "name": "python",
   "nbconvert_exporter": "python",
   "pygments_lexer": "ipython3",
   "version": "3.8.0"
  },
  "varInspector": {
   "cols": {
    "lenName": 16,
    "lenType": 16,
    "lenVar": 40
   },
   "kernels_config": {
    "python": {
     "delete_cmd_postfix": "",
     "delete_cmd_prefix": "del ",
     "library": "var_list.py",
     "varRefreshCmd": "print(var_dic_list())"
    },
    "r": {
     "delete_cmd_postfix": ") ",
     "delete_cmd_prefix": "rm(",
     "library": "var_list.r",
     "varRefreshCmd": "cat(var_dic_list()) "
    }
   },
   "types_to_exclude": [
    "module",
    "function",
    "builtin_function_or_method",
    "instance",
    "_Feature"
   ],
   "window_display": false
  }
 },
 "nbformat": 4,
 "nbformat_minor": 5
}
